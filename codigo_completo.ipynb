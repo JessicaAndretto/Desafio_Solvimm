{
  "cells": [
    {
      "cell_type": "markdown",
      "metadata": {
        "id": "u3VNlnqz730s"
      },
      "source": [
        "# **Desafio Estágio Solvimm**\n"
      ]
    },
    {
      "cell_type": "markdown",
      "metadata": {
        "id": "2ytblsnI8Gqn"
      },
      "source": [
        "### **Contexto do desafio:**\n",
        "\n",
        "Um novo aplicativo de streaming \"5GFlix\" está com o desafio de fazer um estudo de mercado para formular a estratégia de negócio que irão adotar. Como parte do estudo de mercado, a \"5GFlix\" precisa realizar análises em cima de filmes e séries que estão disponíveis na Netflix, a sua concorrente direta.\n",
        "\n",
        "Para auxiliar no desafio da \"5GFlix\", seu CTO Alan Turing, entrou em contato com a Solvimm para construir uma estrutura lógica que possibilite o time de BI da \"5GFlix\" a responder várias perguntas de negócio relacionadas aos dados na Netflix, sendo elas:\n",
        "\n",
        "1. Quantos filmes estão disponíveis no dataset?\n",
        "2. Qual é o nome dos 5 filmes com melhor média de avaliação?\n",
        "3. Quais os 9 anos com menos lançamentos de filmes?\n",
        "4. Quantos filmes que possuem avaliação maior ou igual a 4.7, considerando apenas os filmes avaliados na última data de avaliação do dataset?\n",
        "5. Dos filmes encontrados na questão anterior, quais são os 10 filmes com as piores notas e quais as notas?\n",
        "6. Quais os id's dos 5 customer que mais avaliaram filmes e quantas avaliações cada um fez?\n",
        "\n"
      ]
    },
    {
      "cell_type": "markdown",
      "metadata": {
        "id": "IYR71Ni89nlh"
      },
      "source": [
        "### **Base de dados da Netflix**\n",
        "\n",
        "Base1: https://drive.google.com/file/d/1gLsCjaMrL91ECdThq58cZAzB9tPxG18g/view?usp=sharing\n",
        "\n",
        "Base2: https://drive.google.com/file/d/1C_T1w8fc7Oa8MeTo4LMTEcv90IfEOS-6/view?usp=sharing"
      ]
    },
    {
      "cell_type": "markdown",
      "metadata": {
        "id": "_xU_sJnL93Tf"
      },
      "source": [
        "## **Informações contidas na base de dados**\n",
        "\n",
        "**Base 1:**\n",
        "1. ID do filme\n",
        "2. título e ano de lançamento\n",
        "\n",
        "**Base 2:**\n",
        "1. Cust_Id: ID do customer que fez a avaliação\n",
        "2. Rating: avaliação (nota)\n",
        "3. Date: data da avaliação\n",
        "4. Movie_Id: ID do filme"
      ]
    },
    {
      "cell_type": "markdown",
      "metadata": {
        "id": "rwCr-gqG_91v"
      },
      "source": [
        "### Código para tratamento dos bancos dados"
      ]
    },
    {
      "cell_type": "markdown",
      "metadata": {
        "id": "YNL_fKRlfJv3"
      },
      "source": [
        "#### Tratamento do banco de dados da base1 com o nome dos filmes e id de identificação"
      ]
    },
    {
      "cell_type": "code",
      "execution_count": 2,
      "metadata": {
        "id": "AaQN8IwoA8LQ"
      },
      "outputs": [],
      "source": [
        "# Importando a biblioteca Pandas\n",
        "import pandas as pd"
      ]
    },
    {
      "cell_type": "code",
      "execution_count": 3,
      "metadata": {
        "id": "9RYR4zTY7xHF"
      },
      "outputs": [],
      "source": [
        "# Importando a base de dados dos filmes\n",
        "df_movies = pd.read_csv('movies.csv', sep=\";\", header=None)"
      ]
    },
    {
      "cell_type": "code",
      "execution_count": 4,
      "metadata": {
        "colab": {
          "base_uri": "https://localhost:8080/",
          "height": 206
        },
        "id": "OLFXtuEVBUO-",
        "outputId": "44e35ad5-eda5-4376-8e0c-c280a526d7f2"
      },
      "outputs": [
        {
          "data": {
            "text/html": [
              "<div>\n",
              "<style scoped>\n",
              "    .dataframe tbody tr th:only-of-type {\n",
              "        vertical-align: middle;\n",
              "    }\n",
              "\n",
              "    .dataframe tbody tr th {\n",
              "        vertical-align: top;\n",
              "    }\n",
              "\n",
              "    .dataframe thead th {\n",
              "        text-align: right;\n",
              "    }\n",
              "</style>\n",
              "<table border=\"1\" class=\"dataframe\">\n",
              "  <thead>\n",
              "    <tr style=\"text-align: right;\">\n",
              "      <th></th>\n",
              "      <th>0</th>\n",
              "      <th>1</th>\n",
              "    </tr>\n",
              "  </thead>\n",
              "  <tbody>\n",
              "    <tr>\n",
              "      <th>0</th>\n",
              "      <td>1</td>\n",
              "      <td>(Dinosaur Planet, 2003)</td>\n",
              "    </tr>\n",
              "    <tr>\n",
              "      <th>1</th>\n",
              "      <td>2</td>\n",
              "      <td>(Isle of Man TT 2004 Review, 2004)</td>\n",
              "    </tr>\n",
              "    <tr>\n",
              "      <th>2</th>\n",
              "      <td>3</td>\n",
              "      <td>(Character, 1997)</td>\n",
              "    </tr>\n",
              "    <tr>\n",
              "      <th>3</th>\n",
              "      <td>4</td>\n",
              "      <td>(Paula Abdul's Get Up &amp; Dance, 1994)</td>\n",
              "    </tr>\n",
              "    <tr>\n",
              "      <th>4</th>\n",
              "      <td>5</td>\n",
              "      <td>(The Rise and Fall of ECW, 2004)</td>\n",
              "    </tr>\n",
              "  </tbody>\n",
              "</table>\n",
              "</div>"
            ],
            "text/plain": [
              "   0                                     1\n",
              "0  1               (Dinosaur Planet, 2003)\n",
              "1  2    (Isle of Man TT 2004 Review, 2004)\n",
              "2  3                     (Character, 1997)\n",
              "3  4  (Paula Abdul's Get Up & Dance, 1994)\n",
              "4  5      (The Rise and Fall of ECW, 2004)"
            ]
          },
          "execution_count": 4,
          "metadata": {},
          "output_type": "execute_result"
        }
      ],
      "source": [
        "# Visualizando a base de dados\n",
        "df_movies.head()"
      ]
    },
    {
      "cell_type": "code",
      "execution_count": 5,
      "metadata": {
        "id": "EsbWZpWPL97p"
      },
      "outputs": [],
      "source": [
        "# Na segunda coluna do dataframe temos duas informações importantes, o nome do filme e o ano de lançamento.\n",
        "# Como as informações estão misturadas, é necessário a transformação do dataframe, criando uma coluna para cada dado.\n",
        "# Criação da coluna com o nome do filme:\n",
        "df_movies['Movie_Name'] = df_movies[1].str[1:-7]"
      ]
    },
    {
      "cell_type": "code",
      "execution_count": 6,
      "metadata": {
        "id": "csTXSqM9KjoQ"
      },
      "outputs": [],
      "source": [
        "# Criação da coluna com o ano de lançamento:\n",
        "df_movies['Release_Year'] = df_movies[1].str[-6:-1]"
      ]
    },
    {
      "cell_type": "code",
      "execution_count": 7,
      "metadata": {
        "colab": {
          "base_uri": "https://localhost:8080/",
          "height": 206
        },
        "id": "lr7uQpLlMMun",
        "outputId": "b3d4067d-248d-485f-ed17-2465686cfc13"
      },
      "outputs": [
        {
          "data": {
            "text/html": [
              "<div>\n",
              "<style scoped>\n",
              "    .dataframe tbody tr th:only-of-type {\n",
              "        vertical-align: middle;\n",
              "    }\n",
              "\n",
              "    .dataframe tbody tr th {\n",
              "        vertical-align: top;\n",
              "    }\n",
              "\n",
              "    .dataframe thead th {\n",
              "        text-align: right;\n",
              "    }\n",
              "</style>\n",
              "<table border=\"1\" class=\"dataframe\">\n",
              "  <thead>\n",
              "    <tr style=\"text-align: right;\">\n",
              "      <th></th>\n",
              "      <th>0</th>\n",
              "      <th>1</th>\n",
              "      <th>Movie_Name</th>\n",
              "      <th>Release_Year</th>\n",
              "    </tr>\n",
              "  </thead>\n",
              "  <tbody>\n",
              "    <tr>\n",
              "      <th>0</th>\n",
              "      <td>1</td>\n",
              "      <td>(Dinosaur Planet, 2003)</td>\n",
              "      <td>Dinosaur Planet</td>\n",
              "      <td>2003</td>\n",
              "    </tr>\n",
              "    <tr>\n",
              "      <th>1</th>\n",
              "      <td>2</td>\n",
              "      <td>(Isle of Man TT 2004 Review, 2004)</td>\n",
              "      <td>Isle of Man TT 2004 Review</td>\n",
              "      <td>2004</td>\n",
              "    </tr>\n",
              "    <tr>\n",
              "      <th>2</th>\n",
              "      <td>3</td>\n",
              "      <td>(Character, 1997)</td>\n",
              "      <td>Character</td>\n",
              "      <td>1997</td>\n",
              "    </tr>\n",
              "    <tr>\n",
              "      <th>3</th>\n",
              "      <td>4</td>\n",
              "      <td>(Paula Abdul's Get Up &amp; Dance, 1994)</td>\n",
              "      <td>Paula Abdul's Get Up &amp; Dance</td>\n",
              "      <td>1994</td>\n",
              "    </tr>\n",
              "    <tr>\n",
              "      <th>4</th>\n",
              "      <td>5</td>\n",
              "      <td>(The Rise and Fall of ECW, 2004)</td>\n",
              "      <td>The Rise and Fall of ECW</td>\n",
              "      <td>2004</td>\n",
              "    </tr>\n",
              "  </tbody>\n",
              "</table>\n",
              "</div>"
            ],
            "text/plain": [
              "   0                                     1                    Movie_Name  \\\n",
              "0  1               (Dinosaur Planet, 2003)               Dinosaur Planet   \n",
              "1  2    (Isle of Man TT 2004 Review, 2004)    Isle of Man TT 2004 Review   \n",
              "2  3                     (Character, 1997)                     Character   \n",
              "3  4  (Paula Abdul's Get Up & Dance, 1994)  Paula Abdul's Get Up & Dance   \n",
              "4  5      (The Rise and Fall of ECW, 2004)      The Rise and Fall of ECW   \n",
              "\n",
              "  Release_Year  \n",
              "0         2003  \n",
              "1         2004  \n",
              "2         1997  \n",
              "3         1994  \n",
              "4         2004  "
            ]
          },
          "execution_count": 7,
          "metadata": {},
          "output_type": "execute_result"
        }
      ],
      "source": [
        "# Visualização do dataframe com as novas colunas\n",
        "df_movies.head()"
      ]
    },
    {
      "cell_type": "code",
      "execution_count": 8,
      "metadata": {
        "id": "Esl2zVzIMr6r"
      },
      "outputs": [],
      "source": [
        "# Exclusão da coluna inicial com nome e data de lançamento\n",
        "df_movies.drop(columns=1, inplace=True)"
      ]
    },
    {
      "cell_type": "code",
      "execution_count": 9,
      "metadata": {
        "colab": {
          "base_uri": "https://localhost:8080/",
          "height": 206
        },
        "id": "4FKep8GrNCBw",
        "outputId": "cb9bcb8c-27d1-43b9-b0cc-29cc58a9a2fe"
      },
      "outputs": [
        {
          "data": {
            "text/html": [
              "<div>\n",
              "<style scoped>\n",
              "    .dataframe tbody tr th:only-of-type {\n",
              "        vertical-align: middle;\n",
              "    }\n",
              "\n",
              "    .dataframe tbody tr th {\n",
              "        vertical-align: top;\n",
              "    }\n",
              "\n",
              "    .dataframe thead th {\n",
              "        text-align: right;\n",
              "    }\n",
              "</style>\n",
              "<table border=\"1\" class=\"dataframe\">\n",
              "  <thead>\n",
              "    <tr style=\"text-align: right;\">\n",
              "      <th></th>\n",
              "      <th>0</th>\n",
              "      <th>Movie_Name</th>\n",
              "      <th>Release_Year</th>\n",
              "    </tr>\n",
              "  </thead>\n",
              "  <tbody>\n",
              "    <tr>\n",
              "      <th>0</th>\n",
              "      <td>1</td>\n",
              "      <td>Dinosaur Planet</td>\n",
              "      <td>2003</td>\n",
              "    </tr>\n",
              "    <tr>\n",
              "      <th>1</th>\n",
              "      <td>2</td>\n",
              "      <td>Isle of Man TT 2004 Review</td>\n",
              "      <td>2004</td>\n",
              "    </tr>\n",
              "    <tr>\n",
              "      <th>2</th>\n",
              "      <td>3</td>\n",
              "      <td>Character</td>\n",
              "      <td>1997</td>\n",
              "    </tr>\n",
              "    <tr>\n",
              "      <th>3</th>\n",
              "      <td>4</td>\n",
              "      <td>Paula Abdul's Get Up &amp; Dance</td>\n",
              "      <td>1994</td>\n",
              "    </tr>\n",
              "    <tr>\n",
              "      <th>4</th>\n",
              "      <td>5</td>\n",
              "      <td>The Rise and Fall of ECW</td>\n",
              "      <td>2004</td>\n",
              "    </tr>\n",
              "  </tbody>\n",
              "</table>\n",
              "</div>"
            ],
            "text/plain": [
              "   0                    Movie_Name Release_Year\n",
              "0  1               Dinosaur Planet         2003\n",
              "1  2    Isle of Man TT 2004 Review         2004\n",
              "2  3                     Character         1997\n",
              "3  4  Paula Abdul's Get Up & Dance         1994\n",
              "4  5      The Rise and Fall of ECW         2004"
            ]
          },
          "execution_count": 9,
          "metadata": {},
          "output_type": "execute_result"
        }
      ],
      "source": [
        "# Visualização do banco de dados \n",
        "df_movies.head()"
      ]
    },
    {
      "cell_type": "code",
      "execution_count": 10,
      "metadata": {
        "id": "B3ssoZerNDhP"
      },
      "outputs": [],
      "source": [
        "# Renomeação da coluna de ID do filme com a mesma nomemclatura da base de dados de avaliações.\n",
        "df_movies.rename(columns={0:'Movie_Id'}, inplace=True)"
      ]
    },
    {
      "cell_type": "code",
      "execution_count": 11,
      "metadata": {
        "colab": {
          "base_uri": "https://localhost:8080/"
        },
        "id": "6snyNuubO5jC",
        "outputId": "dd863b82-fea9-47e4-f704-7a5fd930e53e"
      },
      "outputs": [
        {
          "name": "stdout",
          "output_type": "stream",
          "text": [
            "<class 'pandas.core.frame.DataFrame'>\n",
            "RangeIndex: 4499 entries, 0 to 4498\n",
            "Data columns (total 3 columns):\n",
            " #   Column        Non-Null Count  Dtype \n",
            "---  ------        --------------  ----- \n",
            " 0   Movie_Id      4499 non-null   int64 \n",
            " 1   Movie_Name    4499 non-null   object\n",
            " 2   Release_Year  4499 non-null   object\n",
            "dtypes: int64(1), object(2)\n",
            "memory usage: 105.6+ KB\n"
          ]
        }
      ],
      "source": [
        "# Informações sobre o dataframe do banco de dados de filmes.\n",
        "df_movies.info()"
      ]
    },
    {
      "cell_type": "code",
      "execution_count": 12,
      "metadata": {
        "id": "lfcFmjDos-vn"
      },
      "outputs": [],
      "source": [
        "# A coluna referente ao ano de lançamento dos filmes, está no formato de string, \n",
        "# vamos realizar a modificação para tratar esse valor como inteiro.\n",
        "# Realizando a modificando do tipo de dado da coluna com a data de lançamento.\n",
        "df_movies['Release_Year'] = pd.DatetimeIndex(df_movies['Release_Year']).year"
      ]
    },
    {
      "cell_type": "code",
      "execution_count": 13,
      "metadata": {
        "colab": {
          "base_uri": "https://localhost:8080/"
        },
        "id": "pDYEsM53uKDx",
        "outputId": "4f8f715e-6111-4166-d12a-5a1c0d0b6c4a"
      },
      "outputs": [
        {
          "name": "stdout",
          "output_type": "stream",
          "text": [
            "<class 'pandas.core.frame.DataFrame'>\n",
            "RangeIndex: 4499 entries, 0 to 4498\n",
            "Data columns (total 3 columns):\n",
            " #   Column        Non-Null Count  Dtype \n",
            "---  ------        --------------  ----- \n",
            " 0   Movie_Id      4499 non-null   int64 \n",
            " 1   Movie_Name    4499 non-null   object\n",
            " 2   Release_Year  4499 non-null   int64 \n",
            "dtypes: int64(2), object(1)\n",
            "memory usage: 105.6+ KB\n"
          ]
        }
      ],
      "source": [
        "# Informações do dataframe com os nomes das colunas e seu respectivo tipo, conforme as alterações realizadas.\n",
        "df_movies.info()"
      ]
    },
    {
      "cell_type": "code",
      "execution_count": 14,
      "metadata": {
        "colab": {
          "base_uri": "https://localhost:8080/",
          "height": 206
        },
        "id": "WcNnt5ayuM0A",
        "outputId": "9adb0b93-b765-4e21-c8b7-81ac2d49e042"
      },
      "outputs": [
        {
          "data": {
            "text/html": [
              "<div>\n",
              "<style scoped>\n",
              "    .dataframe tbody tr th:only-of-type {\n",
              "        vertical-align: middle;\n",
              "    }\n",
              "\n",
              "    .dataframe tbody tr th {\n",
              "        vertical-align: top;\n",
              "    }\n",
              "\n",
              "    .dataframe thead th {\n",
              "        text-align: right;\n",
              "    }\n",
              "</style>\n",
              "<table border=\"1\" class=\"dataframe\">\n",
              "  <thead>\n",
              "    <tr style=\"text-align: right;\">\n",
              "      <th></th>\n",
              "      <th>Movie_Id</th>\n",
              "      <th>Movie_Name</th>\n",
              "      <th>Release_Year</th>\n",
              "    </tr>\n",
              "  </thead>\n",
              "  <tbody>\n",
              "    <tr>\n",
              "      <th>0</th>\n",
              "      <td>1</td>\n",
              "      <td>Dinosaur Planet</td>\n",
              "      <td>2003</td>\n",
              "    </tr>\n",
              "    <tr>\n",
              "      <th>1</th>\n",
              "      <td>2</td>\n",
              "      <td>Isle of Man TT 2004 Review</td>\n",
              "      <td>2004</td>\n",
              "    </tr>\n",
              "    <tr>\n",
              "      <th>2</th>\n",
              "      <td>3</td>\n",
              "      <td>Character</td>\n",
              "      <td>1997</td>\n",
              "    </tr>\n",
              "    <tr>\n",
              "      <th>3</th>\n",
              "      <td>4</td>\n",
              "      <td>Paula Abdul's Get Up &amp; Dance</td>\n",
              "      <td>1994</td>\n",
              "    </tr>\n",
              "    <tr>\n",
              "      <th>4</th>\n",
              "      <td>5</td>\n",
              "      <td>The Rise and Fall of ECW</td>\n",
              "      <td>2004</td>\n",
              "    </tr>\n",
              "  </tbody>\n",
              "</table>\n",
              "</div>"
            ],
            "text/plain": [
              "   Movie_Id                    Movie_Name  Release_Year\n",
              "0         1               Dinosaur Planet          2003\n",
              "1         2    Isle of Man TT 2004 Review          2004\n",
              "2         3                     Character          1997\n",
              "3         4  Paula Abdul's Get Up & Dance          1994\n",
              "4         5      The Rise and Fall of ECW          2004"
            ]
          },
          "execution_count": 14,
          "metadata": {},
          "output_type": "execute_result"
        }
      ],
      "source": [
        "# Visualização do dataframe com todas as alterações.\n",
        "df_movies.head()"
      ]
    },
    {
      "cell_type": "code",
      "execution_count": 15,
      "metadata": {
        "colab": {
          "base_uri": "https://localhost:8080/"
        },
        "id": "tkNTKu01x_jY",
        "outputId": "01d09ddc-70c0-41c8-a84f-b968fd5424e1"
      },
      "outputs": [
        {
          "name": "stdout",
          "output_type": "stream",
          "text": [
            "Movie_Id        0\n",
            "Movie_Name      0\n",
            "Release_Year    0\n",
            "dtype: int64\n"
          ]
        }
      ],
      "source": [
        "# Verificando se possui dados ausentes.\n",
        "print(df_movies.isnull().sum())"
      ]
    },
    {
      "cell_type": "code",
      "execution_count": 16,
      "metadata": {
        "colab": {
          "base_uri": "https://localhost:8080/"
        },
        "id": "lcKWzS4N6km0",
        "outputId": "fcdff759-9647-4141-b14d-9851f4a9d931"
      },
      "outputs": [
        {
          "data": {
            "text/plain": [
              "Movie_Id  Movie_Name                                        Release_Year\n",
              "1         Dinosaur Planet                                   2003            1\n",
              "2998      Lucia Di Lammermoor: Donizetti: Australian Opera  1986            1\n",
              "3004      Escanaba in da Moonlight                          2000            1\n",
              "3003      The Three Stooges: Merry Mavericks                1951            1\n",
              "3002      Knightriders                                      1981            1\n",
              "                                                                           ..\n",
              "1506      Paranoia Agent                                    2004            1\n",
              "1507      The Hunchback of Notre Dame                       1999            1\n",
              "1508      Hand Maid May                                     2000            1\n",
              "1509      National Lampoon's Van Wilder                     2002            1\n",
              "4499      In My Skin                                        2002            1\n",
              "Length: 4499, dtype: int64"
            ]
          },
          "execution_count": 16,
          "metadata": {},
          "output_type": "execute_result"
        }
      ],
      "source": [
        "# Verificando se possui linhas duplicadas na base de dados.\n",
        "df_movies.value_counts()"
      ]
    },
    {
      "cell_type": "code",
      "execution_count": 17,
      "metadata": {
        "colab": {
          "base_uri": "https://localhost:8080/",
          "height": 49
        },
        "id": "exZGjB4tIjyj",
        "outputId": "1aa042ba-770f-4c37-a3ba-8e742c9c49f9"
      },
      "outputs": [
        {
          "data": {
            "text/html": [
              "<div>\n",
              "<style scoped>\n",
              "    .dataframe tbody tr th:only-of-type {\n",
              "        vertical-align: middle;\n",
              "    }\n",
              "\n",
              "    .dataframe tbody tr th {\n",
              "        vertical-align: top;\n",
              "    }\n",
              "\n",
              "    .dataframe thead th {\n",
              "        text-align: right;\n",
              "    }\n",
              "</style>\n",
              "<table border=\"1\" class=\"dataframe\">\n",
              "  <thead>\n",
              "    <tr style=\"text-align: right;\">\n",
              "      <th></th>\n",
              "      <th>Movie_Id</th>\n",
              "      <th>Movie_Name</th>\n",
              "      <th>Release_Year</th>\n",
              "    </tr>\n",
              "  </thead>\n",
              "  <tbody>\n",
              "  </tbody>\n",
              "</table>\n",
              "</div>"
            ],
            "text/plain": [
              "Empty DataFrame\n",
              "Columns: [Movie_Id, Movie_Name, Release_Year]\n",
              "Index: []"
            ]
          },
          "execution_count": 17,
          "metadata": {},
          "output_type": "execute_result"
        }
      ],
      "source": [
        "# Verificando se possui id's duplicados.\n",
        "duplicado_id = (df_movies.duplicated(subset=['Movie_Id']))\n",
        "df_movies[duplicado_id].head()"
      ]
    },
    {
      "cell_type": "code",
      "execution_count": 18,
      "metadata": {
        "id": "0aL-bEpN8Eec"
      },
      "outputs": [],
      "source": [
        "# Verificando se possui filmes com mesmo nome e mesmo ano de lançamento.\n",
        "duplicate_name_year = (df_movies.duplicated(subset=['Movie_Name', 'Release_Year']))"
      ]
    },
    {
      "cell_type": "code",
      "execution_count": 19,
      "metadata": {
        "colab": {
          "base_uri": "https://localhost:8080/",
          "height": 81
        },
        "id": "aPlQEtBqAv1y",
        "outputId": "943ea5a0-ead3-4d81-e309-884169759864"
      },
      "outputs": [
        {
          "data": {
            "text/html": [
              "<div>\n",
              "<style scoped>\n",
              "    .dataframe tbody tr th:only-of-type {\n",
              "        vertical-align: middle;\n",
              "    }\n",
              "\n",
              "    .dataframe tbody tr th {\n",
              "        vertical-align: top;\n",
              "    }\n",
              "\n",
              "    .dataframe thead th {\n",
              "        text-align: right;\n",
              "    }\n",
              "</style>\n",
              "<table border=\"1\" class=\"dataframe\">\n",
              "  <thead>\n",
              "    <tr style=\"text-align: right;\">\n",
              "      <th></th>\n",
              "      <th>Movie_Id</th>\n",
              "      <th>Movie_Name</th>\n",
              "      <th>Release_Year</th>\n",
              "    </tr>\n",
              "  </thead>\n",
              "  <tbody>\n",
              "    <tr>\n",
              "      <th>4004</th>\n",
              "      <td>4005</td>\n",
              "      <td>Dr. Quinn</td>\n",
              "      <td>1993</td>\n",
              "    </tr>\n",
              "  </tbody>\n",
              "</table>\n",
              "</div>"
            ],
            "text/plain": [
              "      Movie_Id Movie_Name  Release_Year\n",
              "4004      4005  Dr. Quinn          1993"
            ]
          },
          "execution_count": 19,
          "metadata": {},
          "output_type": "execute_result"
        }
      ],
      "source": [
        "df_movies[duplicate_name_year].head()"
      ]
    },
    {
      "cell_type": "code",
      "execution_count": 20,
      "metadata": {
        "id": "eBTwdipHCMIV"
      },
      "outputs": [],
      "source": [
        "filter_movie_duplicate = (df_movies['Movie_Name']=='Dr. Quinn')"
      ]
    },
    {
      "cell_type": "code",
      "execution_count": 21,
      "metadata": {
        "colab": {
          "base_uri": "https://localhost:8080/",
          "height": 143
        },
        "id": "mpcbpZoVCadQ",
        "outputId": "f387c3db-f303-49d5-c406-2caf4b15ed40"
      },
      "outputs": [
        {
          "data": {
            "text/html": [
              "<div>\n",
              "<style scoped>\n",
              "    .dataframe tbody tr th:only-of-type {\n",
              "        vertical-align: middle;\n",
              "    }\n",
              "\n",
              "    .dataframe tbody tr th {\n",
              "        vertical-align: top;\n",
              "    }\n",
              "\n",
              "    .dataframe thead th {\n",
              "        text-align: right;\n",
              "    }\n",
              "</style>\n",
              "<table border=\"1\" class=\"dataframe\">\n",
              "  <thead>\n",
              "    <tr style=\"text-align: right;\">\n",
              "      <th></th>\n",
              "      <th>Movie_Id</th>\n",
              "      <th>Movie_Name</th>\n",
              "      <th>Release_Year</th>\n",
              "    </tr>\n",
              "  </thead>\n",
              "  <tbody>\n",
              "    <tr>\n",
              "      <th>349</th>\n",
              "      <td>350</td>\n",
              "      <td>Dr. Quinn</td>\n",
              "      <td>1993</td>\n",
              "    </tr>\n",
              "    <tr>\n",
              "      <th>1014</th>\n",
              "      <td>1015</td>\n",
              "      <td>Dr. Quinn</td>\n",
              "      <td>1996</td>\n",
              "    </tr>\n",
              "    <tr>\n",
              "      <th>4004</th>\n",
              "      <td>4005</td>\n",
              "      <td>Dr. Quinn</td>\n",
              "      <td>1993</td>\n",
              "    </tr>\n",
              "  </tbody>\n",
              "</table>\n",
              "</div>"
            ],
            "text/plain": [
              "      Movie_Id Movie_Name  Release_Year\n",
              "349        350  Dr. Quinn          1993\n",
              "1014      1015  Dr. Quinn          1996\n",
              "4004      4005  Dr. Quinn          1993"
            ]
          },
          "execution_count": 21,
          "metadata": {},
          "output_type": "execute_result"
        }
      ],
      "source": [
        "# Temos dois filmes do Dr. Quinn com ID_Filme diferente, porém, com mesmo nome e mesmo ano de lançamento.\n",
        "df_movies[filter_movie_duplicate].head()"
      ]
    },
    {
      "cell_type": "markdown",
      "metadata": {},
      "source": [
        "Observação: Apesar de existir dois registros com o mesmo nome (Dr. Quinn) e mesmo ano de lançamento (1993), realizando uma busca na internet, foi verificado que no ano de 1993 foram lançados duas temporadas de Dr. Quinn. Dessa forma, os registros estão se referindo a temporadas diferentes, não sendo considerado um registro duplicado."
      ]
    },
    {
      "cell_type": "markdown",
      "metadata": {
        "id": "wKw7j077vDLe"
      },
      "source": [
        "#### Tratamento do banco de dados da base2 com as avaliações dos usuários"
      ]
    },
    {
      "cell_type": "code",
      "execution_count": 22,
      "metadata": {
        "id": "X-RiUhN4uYdI"
      },
      "outputs": [],
      "source": [
        "# Importando a base de dados.\n",
        "df_customers_rating = pd.read_csv('customers_rating.csv', sep=';')"
      ]
    },
    {
      "cell_type": "code",
      "execution_count": 23,
      "metadata": {
        "colab": {
          "base_uri": "https://localhost:8080/",
          "height": 206
        },
        "id": "bcWvk8rnvemb",
        "outputId": "ca9dbbb6-1a0d-46d7-f849-b87611fed297"
      },
      "outputs": [
        {
          "data": {
            "text/html": [
              "<div>\n",
              "<style scoped>\n",
              "    .dataframe tbody tr th:only-of-type {\n",
              "        vertical-align: middle;\n",
              "    }\n",
              "\n",
              "    .dataframe tbody tr th {\n",
              "        vertical-align: top;\n",
              "    }\n",
              "\n",
              "    .dataframe thead th {\n",
              "        text-align: right;\n",
              "    }\n",
              "</style>\n",
              "<table border=\"1\" class=\"dataframe\">\n",
              "  <thead>\n",
              "    <tr style=\"text-align: right;\">\n",
              "      <th></th>\n",
              "      <th>Cust_Id</th>\n",
              "      <th>Rating</th>\n",
              "      <th>Date</th>\n",
              "      <th>Movie_Id</th>\n",
              "    </tr>\n",
              "  </thead>\n",
              "  <tbody>\n",
              "    <tr>\n",
              "      <th>0</th>\n",
              "      <td>1488844</td>\n",
              "      <td>3.0</td>\n",
              "      <td>2005-09-06</td>\n",
              "      <td>1</td>\n",
              "    </tr>\n",
              "    <tr>\n",
              "      <th>1</th>\n",
              "      <td>822109</td>\n",
              "      <td>5.0</td>\n",
              "      <td>2005-05-13</td>\n",
              "      <td>1</td>\n",
              "    </tr>\n",
              "    <tr>\n",
              "      <th>2</th>\n",
              "      <td>885013</td>\n",
              "      <td>4.0</td>\n",
              "      <td>2005-10-19</td>\n",
              "      <td>1</td>\n",
              "    </tr>\n",
              "    <tr>\n",
              "      <th>3</th>\n",
              "      <td>30878</td>\n",
              "      <td>4.0</td>\n",
              "      <td>2005-12-26</td>\n",
              "      <td>1</td>\n",
              "    </tr>\n",
              "    <tr>\n",
              "      <th>4</th>\n",
              "      <td>823519</td>\n",
              "      <td>3.0</td>\n",
              "      <td>2004-05-03</td>\n",
              "      <td>1</td>\n",
              "    </tr>\n",
              "  </tbody>\n",
              "</table>\n",
              "</div>"
            ],
            "text/plain": [
              "   Cust_Id  Rating        Date  Movie_Id\n",
              "0  1488844     3.0  2005-09-06         1\n",
              "1   822109     5.0  2005-05-13         1\n",
              "2   885013     4.0  2005-10-19         1\n",
              "3    30878     4.0  2005-12-26         1\n",
              "4   823519     3.0  2004-05-03         1"
            ]
          },
          "execution_count": 23,
          "metadata": {},
          "output_type": "execute_result"
        }
      ],
      "source": [
        "# Visualização do dataframe.\n",
        "df_customers_rating.head()"
      ]
    },
    {
      "cell_type": "code",
      "execution_count": 24,
      "metadata": {
        "colab": {
          "base_uri": "https://localhost:8080/"
        },
        "id": "3BpOH2boxuUw",
        "outputId": "b4e3b071-547f-43ae-f6fa-430dbd458952"
      },
      "outputs": [
        {
          "name": "stdout",
          "output_type": "stream",
          "text": [
            "Cust_Id     0\n",
            "Rating      0\n",
            "Date        0\n",
            "Movie_Id    0\n",
            "dtype: int64\n"
          ]
        }
      ],
      "source": [
        "# Verificando se possui dados ausentes.\n",
        "print(df_customers_rating.isnull().sum())"
      ]
    },
    {
      "cell_type": "code",
      "execution_count": 25,
      "metadata": {
        "colab": {
          "base_uri": "https://localhost:8080/"
        },
        "id": "nOSt5M5Q3vEm",
        "outputId": "22150362-cf22-43f3-dd57-87a59bf30c61"
      },
      "outputs": [
        {
          "name": "stdout",
          "output_type": "stream",
          "text": [
            "<class 'pandas.core.frame.DataFrame'>\n",
            "RangeIndex: 24053764 entries, 0 to 24053763\n",
            "Data columns (total 4 columns):\n",
            " #   Column    Dtype  \n",
            "---  ------    -----  \n",
            " 0   Cust_Id   int64  \n",
            " 1   Rating    float64\n",
            " 2   Date      object \n",
            " 3   Movie_Id  int64  \n",
            "dtypes: float64(1), int64(2), object(1)\n",
            "memory usage: 734.1+ MB\n"
          ]
        }
      ],
      "source": [
        "# Informações sobre o dataframe. \n",
        "df_customers_rating.info()"
      ]
    },
    {
      "cell_type": "code",
      "execution_count": 26,
      "metadata": {
        "id": "JVHKs0o54etQ"
      },
      "outputs": [],
      "source": [
        "# Realizando a converteção da coluna de Date para datetime. Importante trabalhar com essa coluna no formato de data.\n",
        "df_customers_rating['Date'] = pd.to_datetime(df_customers_rating['Date'], format='%Y-%m-%d')"
      ]
    },
    {
      "cell_type": "code",
      "execution_count": 27,
      "metadata": {
        "id": "YZeTnlct40VA"
      },
      "outputs": [
        {
          "data": {
            "text/html": [
              "<div>\n",
              "<style scoped>\n",
              "    .dataframe tbody tr th:only-of-type {\n",
              "        vertical-align: middle;\n",
              "    }\n",
              "\n",
              "    .dataframe tbody tr th {\n",
              "        vertical-align: top;\n",
              "    }\n",
              "\n",
              "    .dataframe thead th {\n",
              "        text-align: right;\n",
              "    }\n",
              "</style>\n",
              "<table border=\"1\" class=\"dataframe\">\n",
              "  <thead>\n",
              "    <tr style=\"text-align: right;\">\n",
              "      <th></th>\n",
              "      <th>Cust_Id</th>\n",
              "      <th>Rating</th>\n",
              "      <th>Date</th>\n",
              "      <th>Movie_Id</th>\n",
              "    </tr>\n",
              "  </thead>\n",
              "  <tbody>\n",
              "    <tr>\n",
              "      <th>0</th>\n",
              "      <td>1488844</td>\n",
              "      <td>3.0</td>\n",
              "      <td>2005-09-06</td>\n",
              "      <td>1</td>\n",
              "    </tr>\n",
              "    <tr>\n",
              "      <th>1</th>\n",
              "      <td>822109</td>\n",
              "      <td>5.0</td>\n",
              "      <td>2005-05-13</td>\n",
              "      <td>1</td>\n",
              "    </tr>\n",
              "    <tr>\n",
              "      <th>2</th>\n",
              "      <td>885013</td>\n",
              "      <td>4.0</td>\n",
              "      <td>2005-10-19</td>\n",
              "      <td>1</td>\n",
              "    </tr>\n",
              "    <tr>\n",
              "      <th>3</th>\n",
              "      <td>30878</td>\n",
              "      <td>4.0</td>\n",
              "      <td>2005-12-26</td>\n",
              "      <td>1</td>\n",
              "    </tr>\n",
              "    <tr>\n",
              "      <th>4</th>\n",
              "      <td>823519</td>\n",
              "      <td>3.0</td>\n",
              "      <td>2004-05-03</td>\n",
              "      <td>1</td>\n",
              "    </tr>\n",
              "  </tbody>\n",
              "</table>\n",
              "</div>"
            ],
            "text/plain": [
              "   Cust_Id  Rating       Date  Movie_Id\n",
              "0  1488844     3.0 2005-09-06         1\n",
              "1   822109     5.0 2005-05-13         1\n",
              "2   885013     4.0 2005-10-19         1\n",
              "3    30878     4.0 2005-12-26         1\n",
              "4   823519     3.0 2004-05-03         1"
            ]
          },
          "execution_count": 27,
          "metadata": {},
          "output_type": "execute_result"
        }
      ],
      "source": [
        "df_customers_rating.head()"
      ]
    },
    {
      "cell_type": "code",
      "execution_count": 28,
      "metadata": {
        "id": "xT1QFZJT6Gug"
      },
      "outputs": [
        {
          "name": "stdout",
          "output_type": "stream",
          "text": [
            "<class 'pandas.core.frame.DataFrame'>\n",
            "RangeIndex: 24053764 entries, 0 to 24053763\n",
            "Data columns (total 4 columns):\n",
            " #   Column    Dtype         \n",
            "---  ------    -----         \n",
            " 0   Cust_Id   int64         \n",
            " 1   Rating    float64       \n",
            " 2   Date      datetime64[ns]\n",
            " 3   Movie_Id  int64         \n",
            "dtypes: datetime64[ns](1), float64(1), int64(2)\n",
            "memory usage: 734.1 MB\n"
          ]
        }
      ],
      "source": [
        "# Confirmando a mudança da coluna Date para datetime.\n",
        "df_customers_rating.info()"
      ]
    },
    {
      "cell_type": "code",
      "execution_count": 29,
      "metadata": {
        "id": "eWqBshgKGs9F"
      },
      "outputs": [
        {
          "data": {
            "text/html": [
              "<div>\n",
              "<style scoped>\n",
              "    .dataframe tbody tr th:only-of-type {\n",
              "        vertical-align: middle;\n",
              "    }\n",
              "\n",
              "    .dataframe tbody tr th {\n",
              "        vertical-align: top;\n",
              "    }\n",
              "\n",
              "    .dataframe thead th {\n",
              "        text-align: right;\n",
              "    }\n",
              "</style>\n",
              "<table border=\"1\" class=\"dataframe\">\n",
              "  <thead>\n",
              "    <tr style=\"text-align: right;\">\n",
              "      <th></th>\n",
              "      <th>Cust_Id</th>\n",
              "      <th>Rating</th>\n",
              "      <th>Date</th>\n",
              "      <th>Movie_Id</th>\n",
              "    </tr>\n",
              "  </thead>\n",
              "  <tbody>\n",
              "  </tbody>\n",
              "</table>\n",
              "</div>"
            ],
            "text/plain": [
              "Empty DataFrame\n",
              "Columns: [Cust_Id, Rating, Date, Movie_Id]\n",
              "Index: []"
            ]
          },
          "execution_count": 29,
          "metadata": {},
          "output_type": "execute_result"
        }
      ],
      "source": [
        "# Verificação se possui avaliações duplicadas de clientes, considerando mesmo id do cliente, id do filme e avaliação.\n",
        "duplicadas_clientes = (df_customers_rating.duplicated(subset=['Cust_Id', 'Movie_Id', 'Rating']))\n",
        "df_customers_rating[duplicadas_clientes].head()"
      ]
    },
    {
      "cell_type": "markdown",
      "metadata": {
        "id": "C7lQ_OVUDg-7"
      },
      "source": [
        "#### Verificando os registros de Dr. Quinn"
      ]
    },
    {
      "cell_type": "code",
      "execution_count": 30,
      "metadata": {
        "id": "p__TQ7o5DF8B"
      },
      "outputs": [
        {
          "data": {
            "text/plain": [
              "1151"
            ]
          },
          "execution_count": 30,
          "metadata": {},
          "output_type": "execute_result"
        }
      ],
      "source": [
        "# Verificando se possui algum cliente que fez avaliação para os dois ID do Dr. Quinn.\n",
        "filtro_id_movie = (df_customers_rating['Movie_Id']==350)\n",
        "df_customers_rating[filtro_id_movie].shape[0]"
      ]
    },
    {
      "cell_type": "code",
      "execution_count": 31,
      "metadata": {
        "id": "wn4s6v3rEfMx"
      },
      "outputs": [
        {
          "data": {
            "text/plain": [
              "1381"
            ]
          },
          "execution_count": 31,
          "metadata": {},
          "output_type": "execute_result"
        }
      ],
      "source": [
        "filtro_id_movie_duplicado = (df_customers_rating['Movie_Id']==4005)\n",
        "df_customers_rating[filtro_id_movie_duplicado].shape[0]"
      ]
    },
    {
      "cell_type": "markdown",
      "metadata": {},
      "source": [
        "Observação: Como temos avaliações para os dois registro de Dr. Quinn e a busca ter apresentado duas temporadas em 1993, será mantido os dois registros na base de dados."
      ]
    },
    {
      "cell_type": "markdown",
      "metadata": {
        "id": "qwX-8TYiJ1Hd"
      },
      "source": [
        "### **Criando um novo dataframe com join do df_movies e df_customers_rating**"
      ]
    },
    {
      "cell_type": "code",
      "execution_count": 32,
      "metadata": {
        "id": "BlQkDdjcJ0v5"
      },
      "outputs": [
        {
          "data": {
            "text/html": [
              "<div>\n",
              "<style scoped>\n",
              "    .dataframe tbody tr th:only-of-type {\n",
              "        vertical-align: middle;\n",
              "    }\n",
              "\n",
              "    .dataframe tbody tr th {\n",
              "        vertical-align: top;\n",
              "    }\n",
              "\n",
              "    .dataframe thead th {\n",
              "        text-align: right;\n",
              "    }\n",
              "</style>\n",
              "<table border=\"1\" class=\"dataframe\">\n",
              "  <thead>\n",
              "    <tr style=\"text-align: right;\">\n",
              "      <th></th>\n",
              "      <th>Movie_Id</th>\n",
              "      <th>Movie_Name</th>\n",
              "      <th>Release_Year</th>\n",
              "      <th>Cust_Id</th>\n",
              "      <th>Rating</th>\n",
              "      <th>Date</th>\n",
              "    </tr>\n",
              "  </thead>\n",
              "  <tbody>\n",
              "    <tr>\n",
              "      <th>0</th>\n",
              "      <td>1</td>\n",
              "      <td>Dinosaur Planet</td>\n",
              "      <td>2003</td>\n",
              "      <td>1488844</td>\n",
              "      <td>3.0</td>\n",
              "      <td>2005-09-06</td>\n",
              "    </tr>\n",
              "    <tr>\n",
              "      <th>1</th>\n",
              "      <td>1</td>\n",
              "      <td>Dinosaur Planet</td>\n",
              "      <td>2003</td>\n",
              "      <td>822109</td>\n",
              "      <td>5.0</td>\n",
              "      <td>2005-05-13</td>\n",
              "    </tr>\n",
              "    <tr>\n",
              "      <th>2</th>\n",
              "      <td>1</td>\n",
              "      <td>Dinosaur Planet</td>\n",
              "      <td>2003</td>\n",
              "      <td>885013</td>\n",
              "      <td>4.0</td>\n",
              "      <td>2005-10-19</td>\n",
              "    </tr>\n",
              "    <tr>\n",
              "      <th>3</th>\n",
              "      <td>1</td>\n",
              "      <td>Dinosaur Planet</td>\n",
              "      <td>2003</td>\n",
              "      <td>30878</td>\n",
              "      <td>4.0</td>\n",
              "      <td>2005-12-26</td>\n",
              "    </tr>\n",
              "    <tr>\n",
              "      <th>4</th>\n",
              "      <td>1</td>\n",
              "      <td>Dinosaur Planet</td>\n",
              "      <td>2003</td>\n",
              "      <td>823519</td>\n",
              "      <td>3.0</td>\n",
              "      <td>2004-05-03</td>\n",
              "    </tr>\n",
              "  </tbody>\n",
              "</table>\n",
              "</div>"
            ],
            "text/plain": [
              "   Movie_Id       Movie_Name  Release_Year  Cust_Id  Rating       Date\n",
              "0         1  Dinosaur Planet          2003  1488844     3.0 2005-09-06\n",
              "1         1  Dinosaur Planet          2003   822109     5.0 2005-05-13\n",
              "2         1  Dinosaur Planet          2003   885013     4.0 2005-10-19\n",
              "3         1  Dinosaur Planet          2003    30878     4.0 2005-12-26\n",
              "4         1  Dinosaur Planet          2003   823519     3.0 2004-05-03"
            ]
          },
          "execution_count": 32,
          "metadata": {},
          "output_type": "execute_result"
        }
      ],
      "source": [
        "# Como a análise será realizada apenas com os filmes que possuem avaliações de clientes, \n",
        "# será realizado um join considerando a interseção entre as tabelas.\n",
        "df_join_movies_rating = pd.merge(df_movies, df_customers_rating, how='inner', on='Movie_Id')\n",
        "df_join_movies_rating.head()"
      ]
    },
    {
      "cell_type": "code",
      "execution_count": 33,
      "metadata": {},
      "outputs": [
        {
          "data": {
            "text/plain": [
              "24053764"
            ]
          },
          "execution_count": 33,
          "metadata": {},
          "output_type": "execute_result"
        }
      ],
      "source": [
        "# Quantidade de registros no dataframe\n",
        "df_join_movies_rating.shape[0]"
      ]
    },
    {
      "cell_type": "markdown",
      "metadata": {},
      "source": [
        "### **Funções para as análises**"
      ]
    },
    {
      "cell_type": "markdown",
      "metadata": {},
      "source": [
        "1. Quantos filmes estão disponíveis no dataset?"
      ]
    },
    {
      "cell_type": "code",
      "execution_count": 34,
      "metadata": {},
      "outputs": [],
      "source": [
        "def show_movies_avaiable(df_movies):\n",
        "\n",
        "    \"\"\"Função reponsável por retornar a quantidade de filmes disponíveis da base de dados de filmes.\n",
        "\n",
        "    Como foi realizado um tratamento inicial na base de dados, nessa função olhamos a dimensão das linhas do dataframe.\n",
        "    A função recebe como argumento o dataframe df_movies e retorna sua dimensão.\n",
        "\n",
        "    Método utilizado:\n",
        "    ----------------\n",
        "\n",
        "    - df.shape: Este método retorna uma tupla com as dimensões do dataframe, (quantidade de linhas, quantidade de colunas).\n",
        "    Para acessar a quantidade de linhas, foi utilizado o index 0, acessando o primeiro elemento da tupla.\n",
        "\n",
        "    Return: \n",
        "    -------\n",
        "    \n",
        "    f'A Netflix possui {total_movies} filmes disponíveis.'\n",
        "    \"\"\"\n",
        "\n",
        "    total_movies = df_movies.shape[0]\n",
        "    return print(f'A Netflix possui {total_movies} filmes disponíveis.')"
      ]
    },
    {
      "cell_type": "markdown",
      "metadata": {},
      "source": [
        "2. Qual é o nome dos 5 filmes com melhor média de avaliação?"
      ]
    },
    {
      "cell_type": "code",
      "execution_count": 35,
      "metadata": {},
      "outputs": [],
      "source": [
        "def best_rated_movies(df_join_movies_rating):\n",
        "\n",
        "    \"\"\"Função reponsável por retornar um dataframe com os 5 filmes com as melhores médias de avaliação.\n",
        "    \n",
        "    A função recebe como argumento o dataframe df_join_movies_rating que é o merge dos dois dataframes.\n",
        "    A função realiza inicialmente um agrupamento pelo nome do filme e a média das avaliações.\n",
        "    Posteriormente, faz a ordenação do dataframe de forma decrescente pelos valores das médias das avaliações.\n",
        "    Por fim, apresenta o dataframe com as 5 melhores médias.\n",
        "\n",
        "    Métodos utilizados:\n",
        "    -------------------\n",
        "\n",
        "    - groupby: agrupamento/combinação dos dados\n",
        "    - mean: média dos valores\n",
        "    - rename: renomear o nome da coluna de média \n",
        "    - sort_values: ordenar os valores\n",
        "    - rename: renomear o nome da coluna\n",
        "\n",
        "    Return: \n",
        "    -------\n",
        "    \n",
        "    dataframe com os 5 filmes \n",
        "    \"\"\"\n",
        "    \n",
        "    df_groupby_filme = df_join_movies_rating[['Movie_Name', 'Rating']].groupby('Movie_Name').mean('Rating')\\\n",
        "        .rename(columns={'Rating':'Rating_Average'})\n",
        "    df_groupby_filme.sort_values(['Rating_Average'], ascending=False, inplace=True)\n",
        "    print('Os 5 filmes com as melhores médias de avaliação são:')\n",
        "    return df_groupby_filme.reset_index().head()"
      ]
    },
    {
      "cell_type": "markdown",
      "metadata": {},
      "source": [
        "3. Quais os 9 anos com menos lançamentos de filmes?"
      ]
    },
    {
      "cell_type": "code",
      "execution_count": 36,
      "metadata": {},
      "outputs": [],
      "source": [
        "def years_fewer_movies(df_movies):\n",
        "\n",
        "    \"\"\"Função reponsável por retornar um dataframe com os 9 anos que tiveram menor quantidade de lançamentos de filmes.\n",
        "    \n",
        "    A função recebe como argumento o dataframe df_movies com as informações de ano de lançamento, nome do filme e identificação.\n",
        "    A função realiza inicialmente um agrupamento por ano de lançamento com a soma da quantidade de filmes.\n",
        "    Posteriormente, faz a ordenação do dataframe em ordem crescente da quantidade de filmes.\n",
        "    Por fim, apresenta um dataframe com os 9 anos com menor quantidade de filmes lançados.\n",
        "\n",
        "    Métodos utilizados:\n",
        "    ------------------\n",
        "\n",
        "    - groupby: agrupamento/combinação dos dados\n",
        "    - nunique: conta o número de elementos distintos\n",
        "    - rename: renomear o nome da coluna de quantidade de filmes \n",
        "    - sort_values: ordenar os valores\n",
        "    - rename: renomear o nome da coluna\n",
        "\n",
        "    Return: \n",
        "    -------\n",
        "    \n",
        "    dataframe com os 9 anos com menor quantidade de filmes lançados\n",
        "    \"\"\"\n",
        "\n",
        "    df_groupby_qtd_filmes_ano = df_movies[['Release_Year','Movie_Id']].groupby('Release_Year')\\\n",
        "        .nunique('Movie_Id').rename(columns={'Movie_Id':'Quantity_Movies'})\n",
        "    df_groupby_qtd_filmes_ano.sort_values(['Quantity_Movies'], ascending=True, inplace=True)\n",
        "    print('Os 9 anos que tiveram menor quantidade de lançamentos de filmes foram:')\n",
        "    return df_groupby_qtd_filmes_ano.reset_index().head(9)"
      ]
    },
    {
      "cell_type": "markdown",
      "metadata": {},
      "source": [
        "4. Quantos filmes que possuem avaliação maior ou igual a 4.7, considerando apenas os filmes avaliados na última data de avaliação do dataset?"
      ]
    },
    {
      "cell_type": "code",
      "execution_count": 37,
      "metadata": {},
      "outputs": [],
      "source": [
        "def movies_last_date_rating(df_join_movies_rating):\n",
        "\n",
        "    \"\"\"Função reponsável por retornar um dataframe com os registros de avaliação média maior ou igual a 4.7, \n",
        "    considerando apenas os filmes avaliados na última data de avaliação.\n",
        "    \n",
        "    A função recebe como argumento o dataframe df_join_movies_rating que é o merge dos dois dataframes.\n",
        "    No primeiro momento a função atribui a variável max_date a última data de avaliação e filtra o dataframe por essa data.\n",
        "    Em sequência, realiza um agrupamento pelo nome do filme e a média das avaliações.\n",
        "    Posteriormente, faz uma filtragem dos dados com média >= 4.7 e atribui a uma variável a quantidade de registros resultantes no dataframe.\n",
        "    Por fim, apresenta o dataframe filtrado.\n",
        "\n",
        "    Métodos utilizados:\n",
        "    -------------------\n",
        "\n",
        "    - groupby: agrupamento/combinação dos dados\n",
        "    - mean: média dos valores das avaliações\n",
        "    - loc: selecionar dados específicos da coluna com os valores das avaliações\n",
        "    - max: retorna o valor máximo   \n",
        "    \n",
        "    Return: \n",
        "    -------\n",
        "    \n",
        "    dataframe com os registros de avaliação média maior ou igual a 4.7 na última data de avaliação.\n",
        "    \"\"\"\n",
        "\n",
        "    max_date = df_join_movies_rating['Date'].max()\n",
        "    df_filter_last_date = df_join_movies_rating[df_join_movies_rating['Date']==str(max_date)]\n",
        "    df_filter_last_date_mean = df_filter_last_date[['Movie_Name', 'Rating']].groupby('Movie_Name').mean('Rating')\n",
        "    df_filter_last_date_mean_rating = df_filter_last_date_mean.loc[(df_filter_last_date_mean['Rating']>=4.7)]\n",
        "    return df_filter_last_date_mean_rating"
      ]
    },
    {
      "cell_type": "markdown",
      "metadata": {},
      "source": [
        "5. Dos filmes encontrados na questão anterior, quais são os 10 filmes com as piores notas e quais as notas?"
      ]
    },
    {
      "cell_type": "code",
      "execution_count": 38,
      "metadata": {},
      "outputs": [],
      "source": [
        "def movies_last_date_rating_asc(df_filter_last_date_mean_rating):\n",
        "\n",
        "    \"\"\"Função reponsável por retornar os 10 filmes que tiveram piores notas e quais foram as notas.\n",
        "    \n",
        "    A função recebe como argumento o dataframe df_filter_last_date_mean_rating resultante da função movies_last_date_rating().\n",
        "    A função realiza inicialmente a ordenação do dataframe em ordem crescente dos valores da média das avaliações.\n",
        "    Por fim, apresenta um dataframe com os 10 filmes que tiveram piores notas e quais foram as notas.\n",
        "\n",
        "    Método utilizado:\n",
        "    -------------------\n",
        "\n",
        "    - sort_values: ordenar os valores\n",
        "\n",
        "    Return: \n",
        "    -------\n",
        "    \n",
        "    dataframe com os 10 filmes tiveram piores notas e quais foram as notas.\n",
        "    \"\"\"\n",
        "\n",
        "    df_filter_last_date_mean_rating_asc = df_filter_last_date_mean_rating.sort_values(['Rating'], ascending=True)\n",
        "    print('Os 10 filmes com as piores notas dentre os filmes com notas médias >= 4.7 são:')\n",
        "    return df_filter_last_date_mean_rating_asc.reset_index().head(10)"
      ]
    },
    {
      "cell_type": "markdown",
      "metadata": {},
      "source": [
        "6. Quais os id's dos 5 customer que mais avaliaram filmes e quantas avaliações cada um fez?"
      ]
    },
    {
      "cell_type": "code",
      "execution_count": 39,
      "metadata": {},
      "outputs": [],
      "source": [
        "def top_rated_customers(df_customers_rating):\n",
        "\n",
        "    \"\"\"Função reponsável por retornar um dataframe com os id's dos 5 usuários que mais avaliaram e quantas avaliações cada um fez.\n",
        "    \n",
        "    A função recebe como argumento o dataframe df_customers_rating com as informações de avaliações dos usuários.\n",
        "    A função realiza inicialmente um agrupamento pelo id do cliente e pela soma da quantidade de filmes que ele fez avaliação.\n",
        "    Posteriormente, faz a ordenação do dataframe em ordem decrescente da quantidade de avaliações.\n",
        "    Por fim, apresenta um dataframe com os id's dos 5 usuários que mais avaliaram e quantas avaliações cada um fez.\n",
        "\n",
        "    Métodos utilizados:\n",
        "    -------------------\n",
        "\n",
        "    - groupby: agrupamento/combinação dos dados\n",
        "    - nunique: conta o número de elementos distintos\n",
        "    - sort_values: ordenar os valores\n",
        "    - rename: renomear o nome da coluna\n",
        "\n",
        "    Return: \n",
        "    -------\n",
        "    \n",
        "    dataframe com os id's dos 5 usuários que mais avaliaram e quantas avaliações cada um fez.\n",
        "    \"\"\"\n",
        "    \n",
        "    df_customers_rating_groupby = df_customers_rating[['Cust_Id', 'Movie_Id']].groupby('Cust_Id').nunique('Movie_Id')\\\n",
        "    .rename(columns={'Movie_Id':\"Qtd_Avaliacoes\"})\n",
        "    print('Os 5 customers que mais avaliaram filmes foram:')\n",
        "    return df_customers_rating_groupby.sort_values(['Qtd_Avaliacoes'], ascending=False).reset_index().head()"
      ]
    },
    {
      "cell_type": "markdown",
      "metadata": {
        "id": "vm7YsNtMHTsp"
      },
      "source": [
        "# **Análise solicitada pela \"5GFlix\"**"
      ]
    },
    {
      "cell_type": "markdown",
      "metadata": {
        "id": "uPjeqrU1IBu5"
      },
      "source": [
        "1. Quantos filmes estão disponíveis no dataset?"
      ]
    },
    {
      "cell_type": "code",
      "execution_count": 40,
      "metadata": {
        "id": "SnPka-v-Gnbg"
      },
      "outputs": [
        {
          "name": "stdout",
          "output_type": "stream",
          "text": [
            "A Netflix possui 4499 filmes disponíveis.\n"
          ]
        }
      ],
      "source": [
        "show_movies_avaiable(df_movies)"
      ]
    },
    {
      "cell_type": "markdown",
      "metadata": {
        "id": "TydbQ9aDJrQJ"
      },
      "source": [
        "2. Qual é o nome dos 5 filmes com melhor média de avaliação?"
      ]
    },
    {
      "cell_type": "code",
      "execution_count": 41,
      "metadata": {},
      "outputs": [
        {
          "name": "stdout",
          "output_type": "stream",
          "text": [
            "Os 5 filmes com as melhores médias de avaliação são:\n"
          ]
        },
        {
          "data": {
            "text/html": [
              "<div>\n",
              "<style scoped>\n",
              "    .dataframe tbody tr th:only-of-type {\n",
              "        vertical-align: middle;\n",
              "    }\n",
              "\n",
              "    .dataframe tbody tr th {\n",
              "        vertical-align: top;\n",
              "    }\n",
              "\n",
              "    .dataframe thead th {\n",
              "        text-align: right;\n",
              "    }\n",
              "</style>\n",
              "<table border=\"1\" class=\"dataframe\">\n",
              "  <thead>\n",
              "    <tr style=\"text-align: right;\">\n",
              "      <th></th>\n",
              "      <th>Movie_Name</th>\n",
              "      <th>Rating_Average</th>\n",
              "    </tr>\n",
              "  </thead>\n",
              "  <tbody>\n",
              "    <tr>\n",
              "      <th>0</th>\n",
              "      <td>Lost: Season 1</td>\n",
              "      <td>4.670989</td>\n",
              "    </tr>\n",
              "    <tr>\n",
              "      <th>1</th>\n",
              "      <td>Ghost in the Shell: Stand Alone Complex: 2nd Gig</td>\n",
              "      <td>4.586364</td>\n",
              "    </tr>\n",
              "    <tr>\n",
              "      <th>2</th>\n",
              "      <td>The Simpsons: Season 6</td>\n",
              "      <td>4.581296</td>\n",
              "    </tr>\n",
              "    <tr>\n",
              "      <th>3</th>\n",
              "      <td>Inu-Yasha</td>\n",
              "      <td>4.554434</td>\n",
              "    </tr>\n",
              "    <tr>\n",
              "      <th>4</th>\n",
              "      <td>Lord of the Rings: The Return of the King: Ext...</td>\n",
              "      <td>4.552000</td>\n",
              "    </tr>\n",
              "  </tbody>\n",
              "</table>\n",
              "</div>"
            ],
            "text/plain": [
              "                                          Movie_Name  Rating_Average\n",
              "0                                     Lost: Season 1        4.670989\n",
              "1   Ghost in the Shell: Stand Alone Complex: 2nd Gig        4.586364\n",
              "2                             The Simpsons: Season 6        4.581296\n",
              "3                                          Inu-Yasha        4.554434\n",
              "4  Lord of the Rings: The Return of the King: Ext...        4.552000"
            ]
          },
          "execution_count": 41,
          "metadata": {},
          "output_type": "execute_result"
        }
      ],
      "source": [
        "best_rated_movies(df_join_movies_rating)"
      ]
    },
    {
      "cell_type": "markdown",
      "metadata": {},
      "source": [
        "3. Quais os 9 anos com menos lançamentos de filmes?"
      ]
    },
    {
      "cell_type": "code",
      "execution_count": 42,
      "metadata": {},
      "outputs": [
        {
          "name": "stdout",
          "output_type": "stream",
          "text": [
            "Os 9 anos que tiveram menor quantidade de lançamentos de filmes foram:\n"
          ]
        },
        {
          "data": {
            "text/html": [
              "<div>\n",
              "<style scoped>\n",
              "    .dataframe tbody tr th:only-of-type {\n",
              "        vertical-align: middle;\n",
              "    }\n",
              "\n",
              "    .dataframe tbody tr th {\n",
              "        vertical-align: top;\n",
              "    }\n",
              "\n",
              "    .dataframe thead th {\n",
              "        text-align: right;\n",
              "    }\n",
              "</style>\n",
              "<table border=\"1\" class=\"dataframe\">\n",
              "  <thead>\n",
              "    <tr style=\"text-align: right;\">\n",
              "      <th></th>\n",
              "      <th>Release_Year</th>\n",
              "      <th>Quantity_Movies</th>\n",
              "    </tr>\n",
              "  </thead>\n",
              "  <tbody>\n",
              "    <tr>\n",
              "      <th>0</th>\n",
              "      <td>1915</td>\n",
              "      <td>1</td>\n",
              "    </tr>\n",
              "    <tr>\n",
              "      <th>1</th>\n",
              "      <td>1917</td>\n",
              "      <td>1</td>\n",
              "    </tr>\n",
              "    <tr>\n",
              "      <th>2</th>\n",
              "      <td>1922</td>\n",
              "      <td>1</td>\n",
              "    </tr>\n",
              "    <tr>\n",
              "      <th>3</th>\n",
              "      <td>1926</td>\n",
              "      <td>1</td>\n",
              "    </tr>\n",
              "    <tr>\n",
              "      <th>4</th>\n",
              "      <td>1916</td>\n",
              "      <td>2</td>\n",
              "    </tr>\n",
              "    <tr>\n",
              "      <th>5</th>\n",
              "      <td>1918</td>\n",
              "      <td>2</td>\n",
              "    </tr>\n",
              "    <tr>\n",
              "      <th>6</th>\n",
              "      <td>1924</td>\n",
              "      <td>2</td>\n",
              "    </tr>\n",
              "    <tr>\n",
              "      <th>7</th>\n",
              "      <td>1929</td>\n",
              "      <td>2</td>\n",
              "    </tr>\n",
              "    <tr>\n",
              "      <th>8</th>\n",
              "      <td>1931</td>\n",
              "      <td>2</td>\n",
              "    </tr>\n",
              "  </tbody>\n",
              "</table>\n",
              "</div>"
            ],
            "text/plain": [
              "   Release_Year  Quantity_Movies\n",
              "0          1915                1\n",
              "1          1917                1\n",
              "2          1922                1\n",
              "3          1926                1\n",
              "4          1916                2\n",
              "5          1918                2\n",
              "6          1924                2\n",
              "7          1929                2\n",
              "8          1931                2"
            ]
          },
          "execution_count": 42,
          "metadata": {},
          "output_type": "execute_result"
        }
      ],
      "source": [
        "years_fewer_movies(df_movies)"
      ]
    },
    {
      "cell_type": "markdown",
      "metadata": {},
      "source": [
        "4. Quantos filmes que possuem avaliação maior ou igual a 4.7, considerando apenas os filmes avaliados na última data de avaliação do dataset?"
      ]
    },
    {
      "cell_type": "markdown",
      "metadata": {},
      "source": [
        "Observação: como nossa base de dados apresenta apenas notas de avaliações com valores inteiros (1.0 , 2.0, 3.0, 4.0, 5.0), para considerarmos uma avaliação acima de 4.7, foi realizado um filtro no dataframe com a última data de avaliação do dataframe e a média das avaliação nessa data."
      ]
    },
    {
      "cell_type": "code",
      "execution_count": 44,
      "metadata": {},
      "outputs": [
        {
          "name": "stdout",
          "output_type": "stream",
          "text": [
            "Considerando a data de última avaliação de 31/12/2005, temos 192 filmes com média de avaliações maiores ou igual a 4.7.\n"
          ]
        }
      ],
      "source": [
        "print(f'Considerando a data de última avaliação de 31/12/2005, temos \\\n",
        "{(movies_last_date_rating(df_join_movies_rating)).shape[0]} filmes com média de avaliações maiores ou igual a 4.7.')"
      ]
    },
    {
      "cell_type": "markdown",
      "metadata": {},
      "source": [
        "5. Dos filmes encontrados na questão anterior, quais são os 10 filmes com as piores notas e quais as notas?"
      ]
    },
    {
      "cell_type": "code",
      "execution_count": 46,
      "metadata": {},
      "outputs": [
        {
          "name": "stdout",
          "output_type": "stream",
          "text": [
            "Os 10 filmes com as piores notas dentre os filmes com notas médias >= 4.7 são:\n"
          ]
        },
        {
          "data": {
            "text/html": [
              "<div>\n",
              "<style scoped>\n",
              "    .dataframe tbody tr th:only-of-type {\n",
              "        vertical-align: middle;\n",
              "    }\n",
              "\n",
              "    .dataframe tbody tr th {\n",
              "        vertical-align: top;\n",
              "    }\n",
              "\n",
              "    .dataframe thead th {\n",
              "        text-align: right;\n",
              "    }\n",
              "</style>\n",
              "<table border=\"1\" class=\"dataframe\">\n",
              "  <thead>\n",
              "    <tr style=\"text-align: right;\">\n",
              "      <th></th>\n",
              "      <th>Movie_Name</th>\n",
              "      <th>Rating</th>\n",
              "    </tr>\n",
              "  </thead>\n",
              "  <tbody>\n",
              "    <tr>\n",
              "      <th>0</th>\n",
              "      <td>Spirited Away</td>\n",
              "      <td>4.714286</td>\n",
              "    </tr>\n",
              "    <tr>\n",
              "      <th>1</th>\n",
              "      <td>Gilmore Girls: Season 3</td>\n",
              "      <td>4.750000</td>\n",
              "    </tr>\n",
              "    <tr>\n",
              "      <th>2</th>\n",
              "      <td>The Twilight Zone: Vol. 15</td>\n",
              "      <td>4.750000</td>\n",
              "    </tr>\n",
              "    <tr>\n",
              "      <th>3</th>\n",
              "      <td>SpongeBob SquarePants: Season 3</td>\n",
              "      <td>4.750000</td>\n",
              "    </tr>\n",
              "    <tr>\n",
              "      <th>4</th>\n",
              "      <td>Pete's Dragon</td>\n",
              "      <td>4.750000</td>\n",
              "    </tr>\n",
              "    <tr>\n",
              "      <th>5</th>\n",
              "      <td>Absolutely Fabulous: Series 2</td>\n",
              "      <td>4.750000</td>\n",
              "    </tr>\n",
              "    <tr>\n",
              "      <th>6</th>\n",
              "      <td>The Twilight Zone: Vol. 41</td>\n",
              "      <td>4.750000</td>\n",
              "    </tr>\n",
              "    <tr>\n",
              "      <th>7</th>\n",
              "      <td>An Evening With Kevin Smith</td>\n",
              "      <td>4.750000</td>\n",
              "    </tr>\n",
              "    <tr>\n",
              "      <th>8</th>\n",
              "      <td>Curb Your Enthusiasm: Season 3</td>\n",
              "      <td>4.800000</td>\n",
              "    </tr>\n",
              "    <tr>\n",
              "      <th>9</th>\n",
              "      <td>In the Mood for Love</td>\n",
              "      <td>4.800000</td>\n",
              "    </tr>\n",
              "  </tbody>\n",
              "</table>\n",
              "</div>"
            ],
            "text/plain": [
              "                        Movie_Name    Rating\n",
              "0                    Spirited Away  4.714286\n",
              "1          Gilmore Girls: Season 3  4.750000\n",
              "2       The Twilight Zone: Vol. 15  4.750000\n",
              "3  SpongeBob SquarePants: Season 3  4.750000\n",
              "4                    Pete's Dragon  4.750000\n",
              "5    Absolutely Fabulous: Series 2  4.750000\n",
              "6       The Twilight Zone: Vol. 41  4.750000\n",
              "7      An Evening With Kevin Smith  4.750000\n",
              "8   Curb Your Enthusiasm: Season 3  4.800000\n",
              "9             In the Mood for Love  4.800000"
            ]
          },
          "execution_count": 46,
          "metadata": {},
          "output_type": "execute_result"
        }
      ],
      "source": [
        "movies_last_date_rating_asc(movies_last_date_rating(df_join_movies_rating))"
      ]
    },
    {
      "cell_type": "markdown",
      "metadata": {},
      "source": [
        "6. Quais os id's dos 5 customer que mais avaliaram filmes e quantas avaliações cada um fez?\n"
      ]
    },
    {
      "cell_type": "code",
      "execution_count": 47,
      "metadata": {},
      "outputs": [
        {
          "name": "stdout",
          "output_type": "stream",
          "text": [
            "Os 5 customers que mais avaliaram filmes foram:\n"
          ]
        },
        {
          "data": {
            "text/html": [
              "<div>\n",
              "<style scoped>\n",
              "    .dataframe tbody tr th:only-of-type {\n",
              "        vertical-align: middle;\n",
              "    }\n",
              "\n",
              "    .dataframe tbody tr th {\n",
              "        vertical-align: top;\n",
              "    }\n",
              "\n",
              "    .dataframe thead th {\n",
              "        text-align: right;\n",
              "    }\n",
              "</style>\n",
              "<table border=\"1\" class=\"dataframe\">\n",
              "  <thead>\n",
              "    <tr style=\"text-align: right;\">\n",
              "      <th></th>\n",
              "      <th>Cust_Id</th>\n",
              "      <th>Qtd_Avaliacoes</th>\n",
              "    </tr>\n",
              "  </thead>\n",
              "  <tbody>\n",
              "    <tr>\n",
              "      <th>0</th>\n",
              "      <td>305344</td>\n",
              "      <td>4467</td>\n",
              "    </tr>\n",
              "    <tr>\n",
              "      <th>1</th>\n",
              "      <td>387418</td>\n",
              "      <td>4422</td>\n",
              "    </tr>\n",
              "    <tr>\n",
              "      <th>2</th>\n",
              "      <td>2439493</td>\n",
              "      <td>4195</td>\n",
              "    </tr>\n",
              "    <tr>\n",
              "      <th>3</th>\n",
              "      <td>1664010</td>\n",
              "      <td>4019</td>\n",
              "    </tr>\n",
              "    <tr>\n",
              "      <th>4</th>\n",
              "      <td>2118461</td>\n",
              "      <td>3769</td>\n",
              "    </tr>\n",
              "  </tbody>\n",
              "</table>\n",
              "</div>"
            ],
            "text/plain": [
              "   Cust_Id  Qtd_Avaliacoes\n",
              "0   305344            4467\n",
              "1   387418            4422\n",
              "2  2439493            4195\n",
              "3  1664010            4019\n",
              "4  2118461            3769"
            ]
          },
          "execution_count": 47,
          "metadata": {},
          "output_type": "execute_result"
        }
      ],
      "source": [
        "top_rated_customers(df_customers_rating)"
      ]
    }
  ],
  "metadata": {
    "colab": {
      "provenance": []
    },
    "kernelspec": {
      "display_name": "Python 3.11.0 ('venv': venv)",
      "language": "python",
      "name": "python3"
    },
    "language_info": {
      "codemirror_mode": {
        "name": "ipython",
        "version": 3
      },
      "file_extension": ".py",
      "mimetype": "text/x-python",
      "name": "python",
      "nbconvert_exporter": "python",
      "pygments_lexer": "ipython3",
      "version": "3.11.0"
    },
    "vscode": {
      "interpreter": {
        "hash": "eb0a3d2e8c82e87323fa62320508b5e7fa6781048995ca21d53ca616fd83b497"
      }
    }
  },
  "nbformat": 4,
  "nbformat_minor": 0
}
